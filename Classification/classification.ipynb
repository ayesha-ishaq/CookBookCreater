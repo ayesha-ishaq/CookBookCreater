{
 "cells": [
  {
   "cell_type": "code",
   "execution_count": 9,
   "metadata": {},
   "outputs": [],
   "source": [
    "import os\n",
    "import json\n",
    "import numpy as np\n",
    "import random\n",
    "import pandas as pd\n",
    "from sklearn.model_selection import StratifiedShuffleSplit\n",
    "from sklearn.preprocessing import LabelEncoder\n",
    "from torchvision import transforms\n",
    "from torch.utils.data import Dataset, DataLoader\n",
    "from torchvision import models\n",
    "import torch\n",
    "import torch.nn as nn\n",
    "import torch.optim as optim\n",
    "from PIL import Image\n",
    "import warnings\n",
    "import matplotlib.pyplot as plt\n",
    "from tqdm import tqdm\n",
    "import logging\n",
    "warnings.filterwarnings('ignore')"
   ]
  },
  {
   "cell_type": "code",
   "execution_count": 10,
   "metadata": {},
   "outputs": [],
   "source": [
    "# Set random seeds for reproducibility\n",
    "seed = 42\n",
    "random.seed(seed)\n",
    "np.random.seed(seed)\n",
    "torch.manual_seed(seed)\n",
    "torch.cuda.manual_seed(seed)\n",
    "\n",
    "# Hyperparameters\n",
    "learning_rate = 0.001\n",
    "batch_size = 128\n",
    "num_epochs = 50"
   ]
  },
  {
   "cell_type": "code",
   "execution_count": 11,
   "metadata": {},
   "outputs": [],
   "source": [
    "# Load data\n",
    "with open('/home/chaimaa.abi/Desktop/AI_project/all_1233_7.json', 'r') as f:\n",
    "    data = json.load(f)\n",
    " \n",
    "df = pd.DataFrame(data)\n",
    " \n",
    "y = df['caption']\n",
    "X = df['image']\n",
    " \n",
    "# Stratified Shuffle Split\n",
    "sss = StratifiedShuffleSplit(n_splits=1, test_size=0.2, random_state=42)\n",
    " \n",
    "for train_index, test_index in sss.split(X, y):\n",
    "    train_data = df.iloc[train_index]\n",
    "    test_data = df.iloc[test_index]\n",
    " \n",
    "# Split train data into validation set\n",
    "sss = StratifiedShuffleSplit(n_splits=1, test_size=0.2, random_state=42)\n",
    " \n",
    "for train_index, val_index in sss.split(train_data['image'], train_data['caption']):\n",
    "    train_data_split = train_data.iloc[train_index]\n",
    "    val_data = train_data.iloc[val_index]\n",
    " \n",
    "# Encode labels\n",
    "label_encoder = LabelEncoder()\n",
    "train_data_split['label'] = label_encoder.fit_transform(train_data_split['caption'])\n",
    "val_data['label'] = label_encoder.transform(val_data['caption'])\n",
    "test_data['label'] = label_encoder.transform(test_data['caption'])\n",
    " \n",
    "# Split image paths and labels\n",
    "train_image_paths, train_labels = train_data_split['image'].to_numpy(), train_data_split['label'].to_numpy()\n",
    "val_image_paths, val_labels = val_data['image'].to_numpy(), val_data['label'].to_numpy()\n",
    "test_image_paths, test_labels = test_data['image'].to_numpy(), test_data['label'].to_numpy()"
   ]
  },
  {
   "cell_type": "code",
   "execution_count": 12,
   "metadata": {},
   "outputs": [],
   "source": [
    "# Custom Dataset class\n",
    "class CustomDataset(Dataset):\n",
    "    def __init__(self, image_paths, labels, transform=None):\n",
    "        self.image_paths = image_paths\n",
    "        self.labels = labels\n",
    "        self.transform = transform\n",
    " \n",
    "    def __len__(self):\n",
    "        return len(self.image_paths)\n",
    " \n",
    "    def __getitem__(self, idx):\n",
    "        image_path = self.image_paths[idx]\n",
    "        label = self.labels[idx]\n",
    " \n",
    "        img = Image.open(image_path).convert('RGB')\n",
    " \n",
    "        if self.transform:\n",
    "            img = self.transform(img)\n",
    " \n",
    "        return img, label"
   ]
  },
  {
   "cell_type": "code",
   "execution_count": 13,
   "metadata": {},
   "outputs": [],
   "source": [
    "# Define transformsdevice = torch.device(\"cuda\" if torch.cuda.is_available() else \"cpu\")\n",
    "data_transform = transforms.Compose([\n",
    "    transforms.Resize((224, 224)),\n",
    "    transforms.ToTensor(),\n",
    "    transforms.Normalize(mean=[0.485, 0.456, 0.406], std=[0.229, 0.224, 0.225]),\n",
    "])"
   ]
  },
  {
   "cell_type": "code",
   "execution_count": 14,
   "metadata": {},
   "outputs": [],
   "source": [
    "# Create Datasets and DataLoaders\n",
    "train_dataset = CustomDataset(train_image_paths, train_labels, transform=data_transform)\n",
    "val_dataset = CustomDataset(val_image_paths, val_labels, transform=data_transform)\n",
    " \n",
    "train_loader = DataLoader(train_dataset, batch_size=batch_size, shuffle=True, num_workers=4)\n",
    "val_loader = DataLoader(val_dataset, batch_size=batch_size, shuffle=False, num_workers=4)"
   ]
  },
  {
   "cell_type": "code",
   "execution_count": 15,
   "metadata": {},
   "outputs": [],
   "source": [
    "# Create ResNet50 model with pre-trained weights (excluding the top layer)\n",
    "model = models.resnet50(pretrained=True)\n",
    "num_classes = len(set(train_data_split['caption']))\n",
    "model.fc = nn.Linear(model.fc.in_features, num_classes)\n",
    " \n",
    "# Freeze all layers except the final classification layer\n",
    "for param in model.parameters():\n",
    "    param.requires_grad = False\n",
    " \n",
    "for param in model.fc.parameters():\n",
    "    param.requires_grad = True\n",
    "\n",
    "device = torch.device(\"cuda\" if torch.cuda.is_available() else \"cpu\")\n",
    "model.to(device)\n",
    "\n",
    "# Define loss function and optimizer\n",
    "criterion = nn.CrossEntropyLoss()\n",
    "optimizer = optim.Adam(model.fc.parameters(), lr=learning_rate, weight_decay=1e-4)"
   ]
  },
  {
   "cell_type": "code",
   "execution_count": 16,
   "metadata": {},
   "outputs": [
    {
     "name": "stderr",
     "output_type": "stream",
     "text": [
      "                                                             \r"
     ]
    },
    {
     "name": "stdout",
     "output_type": "stream",
     "text": [
      "Epoch [1/50], Training Loss: 5.5986, Training Accuracy: 16.23%, Validation Loss: 4.5399, Validation Accuracy: 23.44\n"
     ]
    },
    {
     "name": "stderr",
     "output_type": "stream",
     "text": [
      "                                                             \r"
     ]
    },
    {
     "name": "stdout",
     "output_type": "stream",
     "text": [
      "Epoch [2/50], Training Loss: 3.6151, Training Accuracy: 31.44%, Validation Loss: 4.1599, Validation Accuracy: 27.13\n"
     ]
    },
    {
     "name": "stderr",
     "output_type": "stream",
     "text": [
      "                                                             \r"
     ]
    },
    {
     "name": "stdout",
     "output_type": "stream",
     "text": [
      "Epoch [3/50], Training Loss: 2.8503, Training Accuracy: 40.98%, Validation Loss: 3.9908, Validation Accuracy: 28.51\n"
     ]
    },
    {
     "name": "stderr",
     "output_type": "stream",
     "text": [
      "                                                             \r"
     ]
    },
    {
     "name": "stdout",
     "output_type": "stream",
     "text": [
      "Epoch [4/50], Training Loss: 2.3659, Training Accuracy: 48.48%, Validation Loss: 3.9409, Validation Accuracy: 29.31\n"
     ]
    },
    {
     "name": "stderr",
     "output_type": "stream",
     "text": [
      "                                                             \r"
     ]
    },
    {
     "name": "stdout",
     "output_type": "stream",
     "text": [
      "Epoch [5/50], Training Loss: 2.0445, Training Accuracy: 54.14%, Validation Loss: 3.9418, Validation Accuracy: 30.13\n"
     ]
    },
    {
     "name": "stderr",
     "output_type": "stream",
     "text": [
      "                                                             \r"
     ]
    },
    {
     "name": "stdout",
     "output_type": "stream",
     "text": [
      "Epoch [6/50], Training Loss: 1.7982, Training Accuracy: 59.14%, Validation Loss: 3.9415, Validation Accuracy: 30.46\n"
     ]
    },
    {
     "name": "stderr",
     "output_type": "stream",
     "text": [
      "                                                             \r"
     ]
    },
    {
     "name": "stdout",
     "output_type": "stream",
     "text": [
      "Epoch [7/50], Training Loss: 1.6036, Training Accuracy: 63.21%, Validation Loss: 3.9974, Validation Accuracy: 29.94\n"
     ]
    },
    {
     "name": "stderr",
     "output_type": "stream",
     "text": [
      "                                                             \r"
     ]
    },
    {
     "name": "stdout",
     "output_type": "stream",
     "text": [
      "Epoch [8/50], Training Loss: 1.4574, Training Accuracy: 66.55%, Validation Loss: 3.9824, Validation Accuracy: 30.83\n"
     ]
    },
    {
     "name": "stderr",
     "output_type": "stream",
     "text": [
      "                                                             \r"
     ]
    },
    {
     "name": "stdout",
     "output_type": "stream",
     "text": [
      "Epoch [9/50], Training Loss: 1.3352, Training Accuracy: 69.33%, Validation Loss: 4.0037, Validation Accuracy: 30.17\n"
     ]
    },
    {
     "name": "stderr",
     "output_type": "stream",
     "text": [
      "                                                              \r"
     ]
    },
    {
     "name": "stdout",
     "output_type": "stream",
     "text": [
      "Epoch [10/50], Training Loss: 1.2219, Training Accuracy: 71.93%, Validation Loss: 3.9889, Validation Accuracy: 31.23\n"
     ]
    },
    {
     "name": "stderr",
     "output_type": "stream",
     "text": [
      "                                                              \r"
     ]
    },
    {
     "name": "stdout",
     "output_type": "stream",
     "text": [
      "Epoch [11/50], Training Loss: 1.1354, Training Accuracy: 74.04%, Validation Loss: 4.1047, Validation Accuracy: 30.12\n"
     ]
    },
    {
     "name": "stderr",
     "output_type": "stream",
     "text": [
      "                                                              \r"
     ]
    },
    {
     "name": "stdout",
     "output_type": "stream",
     "text": [
      "Epoch [12/50], Training Loss: 1.0634, Training Accuracy: 75.93%, Validation Loss: 4.1110, Validation Accuracy: 30.86\n"
     ]
    },
    {
     "name": "stderr",
     "output_type": "stream",
     "text": [
      "                                                              \r"
     ]
    },
    {
     "name": "stdout",
     "output_type": "stream",
     "text": [
      "Epoch [13/50], Training Loss: 1.0108, Training Accuracy: 77.27%, Validation Loss: 4.0792, Validation Accuracy: 31.20\n"
     ]
    },
    {
     "name": "stderr",
     "output_type": "stream",
     "text": [
      "                                                              \r"
     ]
    },
    {
     "name": "stdout",
     "output_type": "stream",
     "text": [
      "Epoch [14/50], Training Loss: 0.9575, Training Accuracy: 78.54%, Validation Loss: 4.1124, Validation Accuracy: 31.28\n"
     ]
    },
    {
     "name": "stderr",
     "output_type": "stream",
     "text": [
      "                                                              \r"
     ]
    },
    {
     "name": "stdout",
     "output_type": "stream",
     "text": [
      "Epoch [15/50], Training Loss: 0.9058, Training Accuracy: 79.80%, Validation Loss: 4.1422, Validation Accuracy: 30.80\n"
     ]
    },
    {
     "name": "stderr",
     "output_type": "stream",
     "text": [
      "                                                              \r"
     ]
    },
    {
     "name": "stdout",
     "output_type": "stream",
     "text": [
      "Epoch [16/50], Training Loss: 0.8764, Training Accuracy: 80.72%, Validation Loss: 4.1701, Validation Accuracy: 30.55\n"
     ]
    },
    {
     "name": "stderr",
     "output_type": "stream",
     "text": [
      "                                                              \r"
     ]
    },
    {
     "name": "stdout",
     "output_type": "stream",
     "text": [
      "Epoch [17/50], Training Loss: 0.8374, Training Accuracy: 81.48%, Validation Loss: 4.1949, Validation Accuracy: 31.01\n"
     ]
    },
    {
     "name": "stderr",
     "output_type": "stream",
     "text": [
      "                                                              \r"
     ]
    },
    {
     "name": "stdout",
     "output_type": "stream",
     "text": [
      "Epoch [18/50], Training Loss: 0.8063, Training Accuracy: 82.29%, Validation Loss: 4.2048, Validation Accuracy: 30.89\n"
     ]
    },
    {
     "name": "stderr",
     "output_type": "stream",
     "text": [
      "                                                              \r"
     ]
    },
    {
     "name": "stdout",
     "output_type": "stream",
     "text": [
      "Epoch [19/50], Training Loss: 0.7666, Training Accuracy: 83.53%, Validation Loss: 4.2068, Validation Accuracy: 31.05\n"
     ]
    },
    {
     "name": "stderr",
     "output_type": "stream",
     "text": [
      "                                                              \r"
     ]
    },
    {
     "name": "stdout",
     "output_type": "stream",
     "text": [
      "Epoch [20/50], Training Loss: 0.7497, Training Accuracy: 83.97%, Validation Loss: 4.2228, Validation Accuracy: 30.67\n"
     ]
    },
    {
     "name": "stderr",
     "output_type": "stream",
     "text": [
      "                                                              \r"
     ]
    },
    {
     "name": "stdout",
     "output_type": "stream",
     "text": [
      "Epoch [21/50], Training Loss: 0.7267, Training Accuracy: 84.66%, Validation Loss: 4.2348, Validation Accuracy: 31.20\n"
     ]
    },
    {
     "name": "stderr",
     "output_type": "stream",
     "text": [
      "                                                              \r"
     ]
    },
    {
     "name": "stdout",
     "output_type": "stream",
     "text": [
      "Epoch [22/50], Training Loss: 0.7087, Training Accuracy: 85.15%, Validation Loss: 4.2701, Validation Accuracy: 30.71\n"
     ]
    },
    {
     "name": "stderr",
     "output_type": "stream",
     "text": [
      "                                                              \r"
     ]
    },
    {
     "name": "stdout",
     "output_type": "stream",
     "text": [
      "Epoch [23/50], Training Loss: 0.6941, Training Accuracy: 85.36%, Validation Loss: 4.3030, Validation Accuracy: 30.83\n"
     ]
    },
    {
     "name": "stderr",
     "output_type": "stream",
     "text": [
      "                                                              \r"
     ]
    },
    {
     "name": "stdout",
     "output_type": "stream",
     "text": [
      "Epoch [24/50], Training Loss: 0.6705, Training Accuracy: 86.14%, Validation Loss: 4.3058, Validation Accuracy: 30.60\n"
     ]
    },
    {
     "name": "stderr",
     "output_type": "stream",
     "text": [
      "                                                              \r"
     ]
    },
    {
     "name": "stdout",
     "output_type": "stream",
     "text": [
      "Epoch [25/50], Training Loss: 0.6710, Training Accuracy: 85.78%, Validation Loss: 4.3037, Validation Accuracy: 30.81\n"
     ]
    },
    {
     "name": "stderr",
     "output_type": "stream",
     "text": [
      "                                                              \r"
     ]
    },
    {
     "name": "stdout",
     "output_type": "stream",
     "text": [
      "Epoch [26/50], Training Loss: 0.6428, Training Accuracy: 86.89%, Validation Loss: 4.3033, Validation Accuracy: 30.62\n"
     ]
    },
    {
     "name": "stderr",
     "output_type": "stream",
     "text": [
      "                                                              \r"
     ]
    },
    {
     "name": "stdout",
     "output_type": "stream",
     "text": [
      "Epoch [27/50], Training Loss: 0.6264, Training Accuracy: 87.20%, Validation Loss: 4.3936, Validation Accuracy: 29.81\n"
     ]
    },
    {
     "name": "stderr",
     "output_type": "stream",
     "text": [
      "                                                              \r"
     ]
    },
    {
     "name": "stdout",
     "output_type": "stream",
     "text": [
      "Epoch [28/50], Training Loss: 0.6230, Training Accuracy: 87.19%, Validation Loss: 4.3288, Validation Accuracy: 30.42\n"
     ]
    },
    {
     "name": "stderr",
     "output_type": "stream",
     "text": [
      "                                                              \r"
     ]
    },
    {
     "name": "stdout",
     "output_type": "stream",
     "text": [
      "Epoch [29/50], Training Loss: 0.6162, Training Accuracy: 87.53%, Validation Loss: 4.3400, Validation Accuracy: 30.95\n"
     ]
    },
    {
     "name": "stderr",
     "output_type": "stream",
     "text": [
      "                                                              \r"
     ]
    },
    {
     "name": "stdout",
     "output_type": "stream",
     "text": [
      "Epoch [30/50], Training Loss: 0.6013, Training Accuracy: 87.93%, Validation Loss: 4.3233, Validation Accuracy: 30.85\n"
     ]
    },
    {
     "name": "stderr",
     "output_type": "stream",
     "text": [
      "                                                              \r"
     ]
    },
    {
     "name": "stdout",
     "output_type": "stream",
     "text": [
      "Epoch [31/50], Training Loss: 0.5805, Training Accuracy: 88.53%, Validation Loss: 4.3266, Validation Accuracy: 31.05\n"
     ]
    },
    {
     "name": "stderr",
     "output_type": "stream",
     "text": [
      "                                                              \r"
     ]
    },
    {
     "name": "stdout",
     "output_type": "stream",
     "text": [
      "Epoch [32/50], Training Loss: 0.5733, Training Accuracy: 88.86%, Validation Loss: 4.2798, Validation Accuracy: 31.17\n"
     ]
    },
    {
     "name": "stderr",
     "output_type": "stream",
     "text": [
      "                                                              \r"
     ]
    },
    {
     "name": "stdout",
     "output_type": "stream",
     "text": [
      "Epoch [33/50], Training Loss: 0.5686, Training Accuracy: 88.93%, Validation Loss: 4.3564, Validation Accuracy: 30.77\n"
     ]
    },
    {
     "name": "stderr",
     "output_type": "stream",
     "text": [
      "                                                              \r"
     ]
    },
    {
     "name": "stdout",
     "output_type": "stream",
     "text": [
      "Epoch [34/50], Training Loss: 0.5604, Training Accuracy: 89.14%, Validation Loss: 4.3579, Validation Accuracy: 30.41\n"
     ]
    },
    {
     "name": "stderr",
     "output_type": "stream",
     "text": [
      "                                                              \r"
     ]
    },
    {
     "name": "stdout",
     "output_type": "stream",
     "text": [
      "Epoch [35/50], Training Loss: 0.5517, Training Accuracy: 89.59%, Validation Loss: 4.3579, Validation Accuracy: 30.46\n"
     ]
    },
    {
     "name": "stderr",
     "output_type": "stream",
     "text": [
      "                                                              \r"
     ]
    },
    {
     "name": "stdout",
     "output_type": "stream",
     "text": [
      "Epoch [36/50], Training Loss: 0.5570, Training Accuracy: 89.24%, Validation Loss: 4.3775, Validation Accuracy: 30.69\n"
     ]
    },
    {
     "name": "stderr",
     "output_type": "stream",
     "text": [
      "                                                              \r"
     ]
    },
    {
     "name": "stdout",
     "output_type": "stream",
     "text": [
      "Epoch [37/50], Training Loss: 0.5399, Training Accuracy: 89.79%, Validation Loss: 4.3872, Validation Accuracy: 30.80\n"
     ]
    },
    {
     "name": "stderr",
     "output_type": "stream",
     "text": [
      "                                                              \r"
     ]
    },
    {
     "name": "stdout",
     "output_type": "stream",
     "text": [
      "Epoch [38/50], Training Loss: 0.5400, Training Accuracy: 89.71%, Validation Loss: 4.3426, Validation Accuracy: 30.95\n"
     ]
    },
    {
     "name": "stderr",
     "output_type": "stream",
     "text": [
      "                                                              \r"
     ]
    },
    {
     "name": "stdout",
     "output_type": "stream",
     "text": [
      "Epoch [39/50], Training Loss: 0.5267, Training Accuracy: 90.11%, Validation Loss: 4.3783, Validation Accuracy: 30.67\n"
     ]
    },
    {
     "name": "stderr",
     "output_type": "stream",
     "text": [
      "                                                              \r"
     ]
    },
    {
     "name": "stdout",
     "output_type": "stream",
     "text": [
      "Epoch [40/50], Training Loss: 0.5241, Training Accuracy: 90.34%, Validation Loss: 4.3147, Validation Accuracy: 31.34\n"
     ]
    },
    {
     "name": "stderr",
     "output_type": "stream",
     "text": [
      "                                                              \r"
     ]
    },
    {
     "name": "stdout",
     "output_type": "stream",
     "text": [
      "Epoch [41/50], Training Loss: 0.5162, Training Accuracy: 90.44%, Validation Loss: 4.3334, Validation Accuracy: 31.08\n"
     ]
    },
    {
     "name": "stderr",
     "output_type": "stream",
     "text": [
      "                                                              \r"
     ]
    },
    {
     "name": "stdout",
     "output_type": "stream",
     "text": [
      "Epoch [42/50], Training Loss: 0.5171, Training Accuracy: 90.48%, Validation Loss: 4.3610, Validation Accuracy: 31.05\n"
     ]
    },
    {
     "name": "stderr",
     "output_type": "stream",
     "text": [
      "                                                              \r"
     ]
    },
    {
     "name": "stdout",
     "output_type": "stream",
     "text": [
      "Epoch [43/50], Training Loss: 0.5099, Training Accuracy: 90.67%, Validation Loss: 4.3939, Validation Accuracy: 30.41\n"
     ]
    },
    {
     "name": "stderr",
     "output_type": "stream",
     "text": [
      "                                                              \r"
     ]
    },
    {
     "name": "stdout",
     "output_type": "stream",
     "text": [
      "Epoch [44/50], Training Loss: 0.5157, Training Accuracy: 90.31%, Validation Loss: 4.3495, Validation Accuracy: 30.91\n"
     ]
    },
    {
     "name": "stderr",
     "output_type": "stream",
     "text": [
      "                                                              \r"
     ]
    },
    {
     "name": "stdout",
     "output_type": "stream",
     "text": [
      "Epoch [45/50], Training Loss: 0.5043, Training Accuracy: 90.59%, Validation Loss: 4.3273, Validation Accuracy: 30.85\n"
     ]
    },
    {
     "name": "stderr",
     "output_type": "stream",
     "text": [
      "                                                              \r"
     ]
    },
    {
     "name": "stdout",
     "output_type": "stream",
     "text": [
      "Epoch [46/50], Training Loss: 0.4960, Training Accuracy: 90.94%, Validation Loss: 4.3594, Validation Accuracy: 31.27\n"
     ]
    },
    {
     "name": "stderr",
     "output_type": "stream",
     "text": [
      "                                                              \r"
     ]
    },
    {
     "name": "stdout",
     "output_type": "stream",
     "text": [
      "Epoch [47/50], Training Loss: 0.5017, Training Accuracy: 90.91%, Validation Loss: 4.3293, Validation Accuracy: 31.06\n"
     ]
    },
    {
     "name": "stderr",
     "output_type": "stream",
     "text": [
      "                                                              \r"
     ]
    },
    {
     "name": "stdout",
     "output_type": "stream",
     "text": [
      "Epoch [48/50], Training Loss: 0.4930, Training Accuracy: 91.07%, Validation Loss: 4.3987, Validation Accuracy: 30.65\n"
     ]
    },
    {
     "name": "stderr",
     "output_type": "stream",
     "text": [
      "                                                              \r"
     ]
    },
    {
     "name": "stdout",
     "output_type": "stream",
     "text": [
      "Epoch [49/50], Training Loss: 0.4874, Training Accuracy: 91.31%, Validation Loss: 4.3729, Validation Accuracy: 31.67\n"
     ]
    },
    {
     "name": "stderr",
     "output_type": "stream",
     "text": [
      "                                                              \r"
     ]
    },
    {
     "name": "stdout",
     "output_type": "stream",
     "text": [
      "Epoch [50/50], Training Loss: 0.4880, Training Accuracy: 91.14%, Validation Loss: 4.3935, Validation Accuracy: 31.05\n",
      "Best model achieved at epoch 4 with validation loss: 3.9409\n"
     ]
    }
   ],
   "source": [
    "# Configure logging\n",
    "log_file = '/home/chaimaa.abi/Desktop/AI_project/checkpoints/training_log.txt'\n",
    "logging.basicConfig(filename=log_file, level=logging.INFO, format='%(asctime)s - %(levelname)s - %(message)s')\n",
    "\n",
    "train_losses = []\n",
    "val_losses = []\n",
    "train_accuracies = []\n",
    "val_accuracies = []\n",
    "\n",
    "best_val_loss = float('inf')\n",
    "\n",
    "best_epoch = -1\n",
    " \n",
    "for epoch in range(num_epochs):\n",
    "\n",
    "    model.train()\n",
    "\n",
    "    total_train_loss = 0.0\n",
    "\n",
    "    correct_train = 0\n",
    "\n",
    "    total_train = 0\n",
    " \n",
    "    for images, labels in tqdm(train_loader, desc=f'Epoch {epoch + 1}/{num_epochs}', leave=False):\n",
    "\n",
    "        images, labels = images.to(device), labels.to(device)\n",
    " \n",
    "        optimizer.zero_grad()\n",
    "\n",
    "        outputs = model(images)\n",
    "\n",
    "        loss = criterion(outputs, labels)\n",
    "\n",
    "        loss.backward()\n",
    "\n",
    "        optimizer.step()\n",
    " \n",
    "        total_train_loss += loss.item()\n",
    "\n",
    "        _, predicted = outputs.max(1)\n",
    "\n",
    "        total_train += labels.size(0)\n",
    "\n",
    "        correct_train += predicted.eq(labels).sum().item()\n",
    " \n",
    "    average_train_loss = total_train_loss / len(train_loader)\n",
    "\n",
    "    train_accuracy = correct_train / total_train\n",
    " \n",
    "    model.eval()\n",
    "\n",
    "    total_val_loss = 0.0\n",
    "\n",
    "    correct_val = 0\n",
    "\n",
    "    total_val = 0\n",
    " \n",
    "    with torch.no_grad():\n",
    "\n",
    "        for images, labels in tqdm(val_loader, desc='Validation', leave=False):\n",
    "\n",
    "            images, labels = images.to(device), labels.to(device)\n",
    " \n",
    "            outputs = model(images)\n",
    "\n",
    "            loss = criterion(outputs, labels)\n",
    "\n",
    "            total_val_loss += loss.item()\n",
    " \n",
    "            _, predicted = outputs.max(1)\n",
    "\n",
    "            total_val += labels.size(0)\n",
    "\n",
    "            correct_val += predicted.eq(labels).sum().item()\n",
    " \n",
    "    average_val_loss = total_val_loss / len(val_loader)\n",
    "\n",
    "    val_accuracy = correct_val / total_val\n",
    " \n",
    "    # Check if the current validation loss is the best so far\n",
    "\n",
    "    if average_val_loss < best_val_loss:\n",
    "\n",
    "        best_val_loss = average_val_loss\n",
    "\n",
    "        best_epoch = epoch\n",
    " \n",
    "        # Save the model checkpoint\n",
    "\n",
    "        torch.save(model.state_dict(), '/home/chaimaa.abi/Desktop/AI_project/checkpoints/best_model.pth')\n",
    " \n",
    "    # Append values for plotting\n",
    "\n",
    "    train_losses.append(average_train_loss)\n",
    "\n",
    "    val_losses.append(average_val_loss)\n",
    "\n",
    "    train_accuracies.append(train_accuracy)\n",
    "\n",
    "    val_accuracies.append(val_accuracy)\n",
    " \n",
    "    # Log training progress\n",
    "\n",
    "    logging.info(f'Epoch [{epoch + 1}/{num_epochs}], '\n",
    "\n",
    "                 f'Training Loss: {average_train_loss:.4f}, Training Accuracy: {100 * train_accuracy:.2f}%, '\n",
    "\n",
    "                 f'Validation Loss: {average_val_loss:.4f}, Validation Accuracy: {100 * val_accuracy:.2f}')\n",
    "    \n",
    "    print(f'Epoch [{epoch + 1}/{num_epochs}], '\n",
    "\n",
    "                 f'Training Loss: {average_train_loss:.4f}, Training Accuracy: {100 * train_accuracy:.2f}%, '\n",
    "\n",
    "                 f'Validation Loss: {average_val_loss:.4f}, Validation Accuracy: {100 * val_accuracy:.2f}')\n",
    "    \n",
    "print(f'Best model achieved at epoch {best_epoch + 1} with validation loss: {best_val_loss:.4f}')\n",
    "\n",
    "logging.info(f'Best model achieved at epoch {best_epoch + 1} with validation loss: {best_val_loss:.4f}')\n",
    " \n",
    "# Close the logging file handler\n",
    "\n",
    "logging.shutdown()\n"
   ]
  },
  {
   "cell_type": "code",
   "execution_count": 17,
   "metadata": {},
   "outputs": [
    {
     "data": {
      "image/png": "[encoded data removed]",
      "text/plain": [
       "<Figure size 1200x400 with 2 Axes>"
      ]
     },
     "metadata": {},
     "output_type": "display_data"
    }
   ],
   "source": [
    "# Plotting\n",
    "plt.figure(figsize=(12, 4))\n",
    " \n",
    "# Plot Training and Validation Loss\n",
    "plt.subplot(1, 2, 1)\n",
    "plt.plot(train_losses, label='Training Loss', marker='o')\n",
    "plt.plot(val_losses, label='Validation Loss', marker='o')\n",
    "plt.xlabel('Epoch')\n",
    "plt.ylabel('Loss')\n",
    "plt.title('Training and Validation Loss')\n",
    "plt.legend()\n",
    " \n",
    "# Plot Training and Validation Accuracy\n",
    "plt.subplot(1, 2, 2)\n",
    "plt.plot(train_accuracies, label='Training Accuracy', marker='o')\n",
    "plt.plot(val_accuracies, label='Validation Accuracy', marker='o')\n",
    "plt.xlabel('Epoch')\n",
    "plt.ylabel('Accuracy')\n",
    "plt.title('Training and Validation Accuracy')\n",
    "plt.legend()\n",
    " \n",
    "plt.tight_layout()\n",
    "plt.savefig('/home/chaimaa.abi/Desktop/AI_project/figures/history_1233.png')\n",
    "plt.show()"
   ]
  },
  {
   "cell_type": "code",
   "execution_count": 18,
   "metadata": {},
   "outputs": [
    {
     "name": "stderr",
     "output_type": "stream",
     "text": [
      "                                                        "
     ]
    },
    {
     "name": "stdout",
     "output_type": "stream",
     "text": [
      "Test Loss: 3.9389, Test Accuracy: 28.88%\n"
     ]
    },
    {
     "name": "stderr",
     "output_type": "stream",
     "text": [
      "\r"
     ]
    }
   ],
   "source": [
    "# Load the best model checkpoint\n",
    "best_model_path = '/home/chaimaa.abi/Desktop/AI_project/checkpoints/best_model.pth'\n",
    "best_model = models.resnet50(pretrained=False)\n",
    "best_model.fc = nn.Linear(best_model.fc.in_features, num_classes)\n",
    "best_model.load_state_dict(torch.load(best_model_path))\n",
    "best_model.to(device)\n",
    "best_model.eval()\n",
    "\n",
    "# Create a DataLoader for the test set\n",
    "test_dataset = CustomDataset(test_image_paths, test_labels, transform=data_transform)\n",
    "test_loader = DataLoader(test_dataset, batch_size=batch_size, shuffle=False, num_workers=4)\n",
    "\n",
    "# Evaluate the best model on the test set\n",
    "total_test_loss = 0.0\n",
    "correct_test = 0\n",
    "total_test = 0\n",
    "\n",
    "with torch.no_grad():\n",
    "    for images, labels in tqdm(test_loader, desc='Testing', leave=False):\n",
    "        images, labels = images.to(device), labels.to(device)\n",
    "        outputs = best_model(images)\n",
    "        loss = criterion(outputs, labels)\n",
    "        total_test_loss += loss.item()\n",
    "        \n",
    "        _, predicted = outputs.max(1)\n",
    "        total_test += labels.size(0)\n",
    "        correct_test += predicted.eq(labels).sum().item()\n",
    "\n",
    "average_test_loss = total_test_loss / len(test_loader)\n",
    "test_accuracy = correct_test / total_test\n",
    "\n",
    "print(f'Test Loss: {average_test_loss:.4f}, Test Accuracy: {100 * test_accuracy:.2f}%')\n"
   ]
  }
 ],
 "metadata": {
  "kernelspec": {
   "display_name": "Python 3",
   "language": "python",
   "name": "python3"
  },
  "language_info": {
   "codemirror_mode": {
    "name": "ipython",
    "version": 3
   },
   "file_extension": ".py",
   "mimetype": "text/x-python",
   "name": "python",
   "nbconvert_exporter": "python",
   "pygments_lexer": "ipython3",
   "version": "3.10.13"
  },
  "orig_nbformat": 4
 },
 "nbformat": 4,
 "nbformat_minor": 2
}
